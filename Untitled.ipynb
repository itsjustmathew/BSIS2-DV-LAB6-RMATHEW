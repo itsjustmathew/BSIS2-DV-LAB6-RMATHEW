{
  "nbformat": 4,
  "nbformat_minor": 0,
  "metadata": {
    "colab": {
      "provenance": [],
      "authorship_tag": "ABX9TyOzEKILX0Xx414Mx1PDSXCy",
      "include_colab_link": true
    },
    "kernelspec": {
      "name": "python3",
      "display_name": "Python 3"
    },
    "language_info": {
      "name": "python"
    }
  },
  "cells": [
    {
      "cell_type": "markdown",
      "metadata": {
        "id": "view-in-github",
        "colab_type": "text"
      },
      "source": [
        "<a href=\"https://colab.research.google.com/github/itsjustmathew/BSIS2-DV-LAB6-RMATHEW/blob/main/Untitled.ipynb\" target=\"_parent\"><img src=\"https://colab.research.google.com/assets/colab-badge.svg\" alt=\"Open In Colab\"/></a>"
      ]
    },
    {
      "cell_type": "code",
      "execution_count": 1,
      "metadata": {
        "colab": {
          "base_uri": "https://localhost:8080/"
        },
        "id": "7fNzAra8lkeF",
        "outputId": "5324c4ac-da2b-42b9-be74-e9b9e4ea0810"
      },
      "outputs": [
        {
          "output_type": "stream",
          "name": "stdout",
          "text": [
            "[1, 2, 3, 4]\n",
            "['Cellphone', 'Laptop', 'Ps5']\n",
            "[1, 2, 3, 4]\n",
            "[1, 2, 3, 4]\n",
            "[1, 2]\n"
          ]
        },
        {
          "output_type": "execute_result",
          "data": {
            "text/plain": [
              "[2, 3, 4]"
            ]
          },
          "metadata": {},
          "execution_count": 1
        }
      ],
      "source": [
        "z = [1, 2, 3, 4]\n",
        "print(z)\n",
        "\n",
        "\n",
        "Mathewtech = [\"Cellphone\", \"Laptop\", 'Ps5']\n",
        "print(Mathewtech)\n",
        "\n",
        "\n",
        "z [0]\n",
        "print(z)\n",
        "\n",
        "z[-1]\n",
        "print(z)\n",
        "\n",
        "print(z [0:2])\n",
        "\n",
        "z [:3]\n",
        "\n",
        "z [1:]"
      ]
    }
  ]
}